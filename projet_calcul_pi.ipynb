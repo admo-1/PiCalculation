{
 "cells": [
  {
   "cell_type": "markdown",
   "metadata": {},
   "source": [
    "**Approximation du nombre $\\pi$**\n",
    "==================\n",
    "\n",
    "Le nombre $\\pi$ est un nombre qui a toujours fasciné les mathématiciens,\n",
    "notamment sa suite infine de décimales. C'est une des constantes les\n",
    "plus importantes en mathématiques, que l'on retrouve dans différentes\n",
    "formules qui régissent les lois de l'univers, en géométrie,\n",
    "probabilités, trigonométrie, intégration, physique, ingénierie, et bien\n",
    "sûr en informatique. Disposer d'une approximation numérique de ce nombre\n",
    "devient alors une nécessité pour les scientifiques, ingénieurs,\n",
    "enseignants et étudiants. Comme vu en cours et TD, certains nombres\n",
    "réels ne sont pas calculables par une Machine de Turing. Malheureusement,\n",
    "c'est le cas pour le nombre $\\pi$.\n",
    "\n",
    "\n",
    "Le but ce projet est de présenter quelques méthodes, basées sur\n",
    "deux principes mathématiques différents, pour calculer une approximation\n",
    "du nombre $\\pi$. Certaines méthodes peuvent être plus ou moins efficaces\n",
    "(convergence, précision) en fonction du nombre d'itérations, et il\n",
    "pourrait être intéressant de pouvoir étudier ces différences."
   ]
  },
  {
   "attachments": {
    "image_pi.png": {
     "image/png": "[encoded data removed]"
    }
   },
   "cell_type": "markdown",
   "metadata": {},
   "source": [
    "Méthode des séries\n",
    "==================\n",
    "\n",
    "Somme des inverses des carrés\n",
    "-----------------------------\n",
    "\n",
    "Dans cette sous-section on s'intéresse à la convergence de la série\n",
    "$\\sum \\frac{1}{n^2}$, et on se propose de (re)démontrer que cette série\n",
    "converge vers $\\frac{\\pi^2}{6}$. Pour ce faire, on utilise le\n",
    "développement en série de Fourier d'une fonction $f$ définie par le\n",
    "graphique suivant :\n",
    "![image_pi.png](attachment:image_pi.png)"
   ]
  },
  {
   "cell_type": "markdown",
   "metadata": {},
   "source": [
    "La fonction $f$ est 2$\\pi$-périodique, valant 1 sur l'intervalle\n",
    "$]0,\\pi[$, $-1$ sur l'intervalle $]-\\pi,0[$, et vérifiant\n",
    "$f(-\\pi)=f(0)=f(\\pi)=0$. Le développement en série de Fourier $S_N(f)$\n",
    "de la fonction $f$ est défini (dans sa variante réelle) par :\n",
    "\n",
    "$$S_N(f) = a_0 + \\sum_{n=1}^{N} a_n \\cos(nt) + \\sum_{n=1}^{N} b_n \\sin(nt)$$\n",
    "\n",
    "avec $\\forall n \\in \\mathbb{N}^*$\n",
    "\n",
    "$$a_0 = \\frac{1}{2\\pi} \\int_{0}^{2\\pi} f(t) dt$$\n",
    "$$a_n = \\frac{2}{2\\pi} \\int_{0}^{2\\pi} f(t) \\cos(nt) dt$$\n",
    "$$b_n  = \\frac{2}{2\\pi} \\int_{0}^{2\\pi} f(t) \\sin(nt) dt$$\n",
    "\n",
    "1.  Montrer que $a_0 = 0$, et que $\\forall n \\geqslant 1$, $a_n=0$ et\n",
    "    $b_n = \\dfrac{4}{2\\pi} \\left( \\dfrac{1 - \\cos(n\\pi)}{n} \\right)$"
   ]
  },
  {
   "cell_type": "markdown",
   "metadata": {},
   "source": []
  },
  {
   "cell_type": "markdown",
   "metadata": {},
   "source": [
    "2.  En étudiant la parité de $n$, en déduire que pour tout entier\n",
    "    naturel $p$, $b_{2p} = 0$ et $b_{2p+1} = \\dfrac{4}{(2p+1)\\pi}$"
   ]
  },
  {
   "cell_type": "markdown",
   "metadata": {},
   "source": []
  },
  {
   "cell_type": "markdown",
   "metadata": {},
   "source": [
    "3.  On rappelle le Théorème de Parseval :\n",
    "\n",
    "    Soit $f$ une fonction continue par morceau, et 2$\\pi$-périodique.\n",
    "    Alors on a l'égalité suivante :\n",
    "    $$\\frac{1}{2\\pi} \\int_{0}^{2\\pi}|f(t)|^2dt=  |a_0|^2 + \\frac{1}{2} \\left( \\sum_{n=1}^{+\\infty}|a_n|^2 + |b_n|^2 \\right)$$\n",
    "    vec $a_n$ et $b_n$ désignant les coefficients de Fourier réels de\n",
    "    $f$.\n",
    "\n",
    "    En appliquant le théorème de Parseval à la fonction $f$,\n",
    "    montrer que $$\\label{serie2}\n",
    "    \\sum_{p=0}^{+\\infty} \\dfrac{1}{(2p+1)^2} = \\dfrac{\\pi^2}{8}$$\n",
    "    Cette série sera appelée la *série impaire*."
   ]
  },
  {
   "cell_type": "markdown",
   "metadata": {},
   "source": []
  },
  {
   "cell_type": "markdown",
   "metadata": {},
   "source": [
    "4.  En remarquant que\n",
    "    $$\\sum_{n=1}^{2N} \\frac{1}{n^2} = \\sum_{p=1}^{N} \\frac{1}{(2p)^2} + \\sum_{p=0}^{N-1} \\frac{1}{(2p+1)^2}$$\n",
    "\n",
    "    , en simplifiant l'expression puis en passant à la limite en\n",
    "    l'infini, montrer que :\n",
    "\n",
    "    $$\\sum_{n=1}^{+\\infty} \\frac{1}{n^2} = \\frac{1}{4} \\sum_{n=1}^{+\\infty} \\frac{1}{n^2} + \\frac{\\pi^2}{8}$$"
   ]
  },
  {
   "cell_type": "markdown",
   "metadata": {},
   "source": []
  },
  {
   "cell_type": "markdown",
   "metadata": {},
   "source": [
    "5.  Finalement, en déduirela valeur de la *série paire*\n",
    "\n",
    "    $$\\label{serie1}\n",
    "     \\sum_{n=1}^{+\\infty} \\frac{1}{n^2}$$"
   ]
  },
  {
   "cell_type": "markdown",
   "metadata": {},
   "source": []
  },
  {
   "cell_type": "markdown",
   "metadata": {},
   "source": [
    "Implémentations\n",
    "---------------\n",
    "\n",
    "1.  Implémenter une fonction *SerieInvCarres(N)* renvoyant calculant les\n",
    "    $N$ premiers termes de la somme $$\\sum_{n=1}^{N} \\frac{1}{n^2}$$"
   ]
  },
  {
   "cell_type": "code",
   "execution_count": 75,
   "metadata": {},
   "outputs": [],
   "source": [
    "def SerieInvCarres(N):\n",
    "    s = 0\n",
    "    for n in range(1, N + 1):\n",
    "        s = s + (1/(n*n))\n",
    "    return s"
   ]
  },
  {
   "cell_type": "code",
   "execution_count": 76,
   "metadata": {},
   "outputs": [
    {
     "data": {
      "text/plain": [
       "1.4636111111111112"
      ]
     },
     "execution_count": 76,
     "metadata": {},
     "output_type": "execute_result"
    }
   ],
   "source": [
    "SerieInvCarres(5)"
   ]
  },
  {
   "cell_type": "markdown",
   "metadata": {},
   "source": [
    "2.  En utilisant l'équation *série paire*, implémenter une fonction\n",
    "    *MethodeSerieInvCarres(N)* renvoyant une approximation du nombre\n",
    "    $\\pi$."
   ]
  },
  {
   "cell_type": "code",
   "execution_count": 80,
   "metadata": {},
   "outputs": [],
   "source": [
    "import math\n",
    "def MethodeSerieInvCarres(N):\n",
    "    valeur_pi = 0\n",
    "    valeur_pi = math.sqrt(6*SerieInvCarres(N))\n",
    "    return valeur_pi"
   ]
  },
  {
   "cell_type": "code",
   "execution_count": 82,
   "metadata": {},
   "outputs": [
    {
     "data": {
      "text/plain": [
       "3.141591698659554"
      ]
     },
     "execution_count": 82,
     "metadata": {},
     "output_type": "execute_result"
    }
   ],
   "source": [
    "MethodeSerieInvCarres(999999)"
   ]
  },
  {
   "cell_type": "markdown",
   "metadata": {},
   "source": [
    "3.  Implémenter une fonction *SerieInvCarresImparis(N)* renvoyant\n",
    "    calculant les $N$ premiers termes de la somme\n",
    "    $$\\sum_{n=0}^{N} \\frac{1}{(2n+1)^2}$$"
   ]
  },
  {
   "cell_type": "code",
   "execution_count": 96,
   "metadata": {},
   "outputs": [],
   "source": [
    "import math\n",
    "def SerieInvCarresImpairs(N):\n",
    "    s = 0\n",
    "    for n in range(0, N):\n",
    "        s = s + (1/(pow((2*n + 1), 2)))\n",
    "    return s"
   ]
  },
  {
   "cell_type": "code",
   "execution_count": 97,
   "metadata": {},
   "outputs": [
    {
     "data": {
      "text/plain": [
       "1.1511111111111112"
      ]
     },
     "execution_count": 97,
     "metadata": {},
     "output_type": "execute_result"
    }
   ],
   "source": [
    "SerieInvCarresImpairs(3)"
   ]
  },
  {
   "cell_type": "markdown",
   "metadata": {},
   "source": [
    "4.  En utilisant l'équation *série impaire*, implémenter une fonction\n",
    "    *MethodeSerieInvCarresImparis(N)* renvoyant une approximation du\n",
    "    nombre $\\pi$."
   ]
  },
  {
   "cell_type": "code",
   "execution_count": 98,
   "metadata": {},
   "outputs": [],
   "source": [
    "import math\n",
    "def MethodeSerieInvCarresImpairs(N):\n",
    "    s = 0\n",
    "    valeur_pi = 0\n",
    "    valeur_pi = math.sqrt(8*SerieInvCarresImpairs(N))\n",
    "    return valeur_pi"
   ]
  },
  {
   "cell_type": "code",
   "execution_count": 100,
   "metadata": {},
   "outputs": [
    {
     "data": {
      "text/plain": [
       "3.14127432760274"
      ]
     },
     "execution_count": 100,
     "metadata": {},
     "output_type": "execute_result"
    }
   ],
   "source": [
    "MethodeSerieInvCarresImpairs(1000)"
   ]
  },
  {
   "cell_type": "markdown",
   "metadata": {},
   "source": [
    "5.  Pour chacune des deux méthodes ci-dessus, tracer la courbe\n",
    "    représentant l'évolution de $|MethodeSerieXXX(N) - \\pi|$ en fonction\n",
    "    de $N$"
   ]
  },
  {
   "cell_type": "code",
   "execution_count": null,
   "metadata": {},
   "outputs": [],
   "source": []
  },
  {
   "cell_type": "code",
   "execution_count": 116,
   "metadata": {},
   "outputs": [],
   "source": [
    "from sympy import *\n",
    "import matplotlib.pyplot as plt\n",
    "import numpy as np\n",
    "sample = lambda vx,p : [p.subs({x:i}) for i in vx]\n",
    "\n",
    "def trc_MethdodeSerieInvCarres(N):\n",
    "    methodeserieimpaire = MethodeSerieInvCarresImpairs(N)\n",
    "    methodeseriepaire = MethodeSerieInvCarres(N)\n",
    "    fx = np.linspace(0, 500, 2000)\n",
    "    fy = \n",
    "    oddy = methodeserieimpaire\n",
    "    eveny = methodeseriepaire\n",
    "    plt.figure(figsize=(8, 6))\n",
    "    plt.plot(fx, oddy, linewidth=1 , color='blue' ,label='$Impaire(x)$')\n",
    "    plt.plot(fx, eveny, linewidth=1 , color='crimson' ,label='$Paire(x)$')\n",
    "    plt.title('Calcul de pi')\n",
    "    plt.grid()\n",
    "    plt.axis([0, 2000, -1, 1])\n",
    "    plt.legend()\n",
    "    plt.show()"
   ]
  },
  {
   "cell_type": "code",
   "execution_count": 117,
   "metadata": {},
   "outputs": [
    {
     "ename": "ValueError",
     "evalue": "x and y must have same first dimension, but have shapes (2000,) and (1,)",
     "output_type": "error",
     "traceback": [
      "\u001b[1;31m---------------------------------------------------------------------------\u001b[0m",
      "\u001b[1;31mValueError\u001b[0m                                Traceback (most recent call last)",
      "\u001b[1;32m<ipython-input-117-5e716bfca738>\u001b[0m in \u001b[0;36m<module>\u001b[1;34m\u001b[0m\n\u001b[1;32m----> 1\u001b[1;33m \u001b[0mtrc_MethdodeSerieInvCarres\u001b[0m\u001b[1;33m(\u001b[0m\u001b[1;36m100\u001b[0m\u001b[1;33m)\u001b[0m\u001b[1;33m\u001b[0m\u001b[1;33m\u001b[0m\u001b[0m\n\u001b[0m",
      "\u001b[1;32m<ipython-input-116-10b78cc9d159>\u001b[0m in \u001b[0;36mtrc_MethdodeSerieInvCarres\u001b[1;34m(N)\u001b[0m\n\u001b[0;32m     10\u001b[0m     \u001b[0meveny\u001b[0m \u001b[1;33m=\u001b[0m \u001b[0mmethodeseriepaire\u001b[0m\u001b[1;33m\u001b[0m\u001b[1;33m\u001b[0m\u001b[0m\n\u001b[0;32m     11\u001b[0m     \u001b[0mplt\u001b[0m\u001b[1;33m.\u001b[0m\u001b[0mfigure\u001b[0m\u001b[1;33m(\u001b[0m\u001b[0mfigsize\u001b[0m\u001b[1;33m=\u001b[0m\u001b[1;33m(\u001b[0m\u001b[1;36m8\u001b[0m\u001b[1;33m,\u001b[0m \u001b[1;36m6\u001b[0m\u001b[1;33m)\u001b[0m\u001b[1;33m)\u001b[0m\u001b[1;33m\u001b[0m\u001b[1;33m\u001b[0m\u001b[0m\n\u001b[1;32m---> 12\u001b[1;33m     \u001b[0mplt\u001b[0m\u001b[1;33m.\u001b[0m\u001b[0mplot\u001b[0m\u001b[1;33m(\u001b[0m\u001b[0mfx\u001b[0m\u001b[1;33m,\u001b[0m \u001b[0moddy\u001b[0m\u001b[1;33m,\u001b[0m \u001b[0mlinewidth\u001b[0m\u001b[1;33m=\u001b[0m\u001b[1;36m1\u001b[0m \u001b[1;33m,\u001b[0m \u001b[0mcolor\u001b[0m\u001b[1;33m=\u001b[0m\u001b[1;34m'blue'\u001b[0m \u001b[1;33m,\u001b[0m\u001b[0mlabel\u001b[0m\u001b[1;33m=\u001b[0m\u001b[1;34m'$Impaire(x)$'\u001b[0m\u001b[1;33m)\u001b[0m\u001b[1;33m\u001b[0m\u001b[1;33m\u001b[0m\u001b[0m\n\u001b[0m\u001b[0;32m     13\u001b[0m     \u001b[0mplt\u001b[0m\u001b[1;33m.\u001b[0m\u001b[0mplot\u001b[0m\u001b[1;33m(\u001b[0m\u001b[0mfx\u001b[0m\u001b[1;33m,\u001b[0m \u001b[0meveny\u001b[0m\u001b[1;33m,\u001b[0m \u001b[0mlinewidth\u001b[0m\u001b[1;33m=\u001b[0m\u001b[1;36m1\u001b[0m \u001b[1;33m,\u001b[0m \u001b[0mcolor\u001b[0m\u001b[1;33m=\u001b[0m\u001b[1;34m'crimson'\u001b[0m \u001b[1;33m,\u001b[0m\u001b[0mlabel\u001b[0m\u001b[1;33m=\u001b[0m\u001b[1;34m'$Paire(x)$'\u001b[0m\u001b[1;33m)\u001b[0m\u001b[1;33m\u001b[0m\u001b[1;33m\u001b[0m\u001b[0m\n\u001b[0;32m     14\u001b[0m     \u001b[0mplt\u001b[0m\u001b[1;33m.\u001b[0m\u001b[0mtitle\u001b[0m\u001b[1;33m(\u001b[0m\u001b[1;34m'Calcul de pi'\u001b[0m\u001b[1;33m)\u001b[0m\u001b[1;33m\u001b[0m\u001b[1;33m\u001b[0m\u001b[0m\n",
      "\u001b[1;32mC:\\ProgramData\\Anaconda3\\lib\\site-packages\\matplotlib\\pyplot.py\u001b[0m in \u001b[0;36mplot\u001b[1;34m(scalex, scaley, data, *args, **kwargs)\u001b[0m\n\u001b[0;32m   2793\u001b[0m     return gca().plot(\n\u001b[0;32m   2794\u001b[0m         *args, scalex=scalex, scaley=scaley, **({\"data\": data} if data\n\u001b[1;32m-> 2795\u001b[1;33m         is not None else {}), **kwargs)\n\u001b[0m\u001b[0;32m   2796\u001b[0m \u001b[1;33m\u001b[0m\u001b[0m\n\u001b[0;32m   2797\u001b[0m \u001b[1;33m\u001b[0m\u001b[0m\n",
      "\u001b[1;32mC:\\ProgramData\\Anaconda3\\lib\\site-packages\\matplotlib\\axes\\_axes.py\u001b[0m in \u001b[0;36mplot\u001b[1;34m(self, scalex, scaley, data, *args, **kwargs)\u001b[0m\n\u001b[0;32m   1664\u001b[0m         \"\"\"\n\u001b[0;32m   1665\u001b[0m         \u001b[0mkwargs\u001b[0m \u001b[1;33m=\u001b[0m \u001b[0mcbook\u001b[0m\u001b[1;33m.\u001b[0m\u001b[0mnormalize_kwargs\u001b[0m\u001b[1;33m(\u001b[0m\u001b[0mkwargs\u001b[0m\u001b[1;33m,\u001b[0m \u001b[0mmlines\u001b[0m\u001b[1;33m.\u001b[0m\u001b[0mLine2D\u001b[0m\u001b[1;33m.\u001b[0m\u001b[0m_alias_map\u001b[0m\u001b[1;33m)\u001b[0m\u001b[1;33m\u001b[0m\u001b[1;33m\u001b[0m\u001b[0m\n\u001b[1;32m-> 1666\u001b[1;33m         \u001b[0mlines\u001b[0m \u001b[1;33m=\u001b[0m \u001b[1;33m[\u001b[0m\u001b[1;33m*\u001b[0m\u001b[0mself\u001b[0m\u001b[1;33m.\u001b[0m\u001b[0m_get_lines\u001b[0m\u001b[1;33m(\u001b[0m\u001b[1;33m*\u001b[0m\u001b[0margs\u001b[0m\u001b[1;33m,\u001b[0m \u001b[0mdata\u001b[0m\u001b[1;33m=\u001b[0m\u001b[0mdata\u001b[0m\u001b[1;33m,\u001b[0m \u001b[1;33m**\u001b[0m\u001b[0mkwargs\u001b[0m\u001b[1;33m)\u001b[0m\u001b[1;33m]\u001b[0m\u001b[1;33m\u001b[0m\u001b[1;33m\u001b[0m\u001b[0m\n\u001b[0m\u001b[0;32m   1667\u001b[0m         \u001b[1;32mfor\u001b[0m \u001b[0mline\u001b[0m \u001b[1;32min\u001b[0m \u001b[0mlines\u001b[0m\u001b[1;33m:\u001b[0m\u001b[1;33m\u001b[0m\u001b[1;33m\u001b[0m\u001b[0m\n\u001b[0;32m   1668\u001b[0m             \u001b[0mself\u001b[0m\u001b[1;33m.\u001b[0m\u001b[0madd_line\u001b[0m\u001b[1;33m(\u001b[0m\u001b[0mline\u001b[0m\u001b[1;33m)\u001b[0m\u001b[1;33m\u001b[0m\u001b[1;33m\u001b[0m\u001b[0m\n",
      "\u001b[1;32mC:\\ProgramData\\Anaconda3\\lib\\site-packages\\matplotlib\\axes\\_base.py\u001b[0m in \u001b[0;36m__call__\u001b[1;34m(self, *args, **kwargs)\u001b[0m\n\u001b[0;32m    223\u001b[0m                 \u001b[0mthis\u001b[0m \u001b[1;33m+=\u001b[0m \u001b[0margs\u001b[0m\u001b[1;33m[\u001b[0m\u001b[1;36m0\u001b[0m\u001b[1;33m]\u001b[0m\u001b[1;33m,\u001b[0m\u001b[1;33m\u001b[0m\u001b[1;33m\u001b[0m\u001b[0m\n\u001b[0;32m    224\u001b[0m                 \u001b[0margs\u001b[0m \u001b[1;33m=\u001b[0m \u001b[0margs\u001b[0m\u001b[1;33m[\u001b[0m\u001b[1;36m1\u001b[0m\u001b[1;33m:\u001b[0m\u001b[1;33m]\u001b[0m\u001b[1;33m\u001b[0m\u001b[1;33m\u001b[0m\u001b[0m\n\u001b[1;32m--> 225\u001b[1;33m             \u001b[1;32myield\u001b[0m \u001b[1;32mfrom\u001b[0m \u001b[0mself\u001b[0m\u001b[1;33m.\u001b[0m\u001b[0m_plot_args\u001b[0m\u001b[1;33m(\u001b[0m\u001b[0mthis\u001b[0m\u001b[1;33m,\u001b[0m \u001b[0mkwargs\u001b[0m\u001b[1;33m)\u001b[0m\u001b[1;33m\u001b[0m\u001b[1;33m\u001b[0m\u001b[0m\n\u001b[0m\u001b[0;32m    226\u001b[0m \u001b[1;33m\u001b[0m\u001b[0m\n\u001b[0;32m    227\u001b[0m     \u001b[1;32mdef\u001b[0m \u001b[0mget_next_color\u001b[0m\u001b[1;33m(\u001b[0m\u001b[0mself\u001b[0m\u001b[1;33m)\u001b[0m\u001b[1;33m:\u001b[0m\u001b[1;33m\u001b[0m\u001b[1;33m\u001b[0m\u001b[0m\n",
      "\u001b[1;32mC:\\ProgramData\\Anaconda3\\lib\\site-packages\\matplotlib\\axes\\_base.py\u001b[0m in \u001b[0;36m_plot_args\u001b[1;34m(self, tup, kwargs)\u001b[0m\n\u001b[0;32m    389\u001b[0m             \u001b[0mx\u001b[0m\u001b[1;33m,\u001b[0m \u001b[0my\u001b[0m \u001b[1;33m=\u001b[0m \u001b[0mindex_of\u001b[0m\u001b[1;33m(\u001b[0m\u001b[0mtup\u001b[0m\u001b[1;33m[\u001b[0m\u001b[1;33m-\u001b[0m\u001b[1;36m1\u001b[0m\u001b[1;33m]\u001b[0m\u001b[1;33m)\u001b[0m\u001b[1;33m\u001b[0m\u001b[1;33m\u001b[0m\u001b[0m\n\u001b[0;32m    390\u001b[0m \u001b[1;33m\u001b[0m\u001b[0m\n\u001b[1;32m--> 391\u001b[1;33m         \u001b[0mx\u001b[0m\u001b[1;33m,\u001b[0m \u001b[0my\u001b[0m \u001b[1;33m=\u001b[0m \u001b[0mself\u001b[0m\u001b[1;33m.\u001b[0m\u001b[0m_xy_from_xy\u001b[0m\u001b[1;33m(\u001b[0m\u001b[0mx\u001b[0m\u001b[1;33m,\u001b[0m \u001b[0my\u001b[0m\u001b[1;33m)\u001b[0m\u001b[1;33m\u001b[0m\u001b[1;33m\u001b[0m\u001b[0m\n\u001b[0m\u001b[0;32m    392\u001b[0m \u001b[1;33m\u001b[0m\u001b[0m\n\u001b[0;32m    393\u001b[0m         \u001b[1;32mif\u001b[0m \u001b[0mself\u001b[0m\u001b[1;33m.\u001b[0m\u001b[0mcommand\u001b[0m \u001b[1;33m==\u001b[0m \u001b[1;34m'plot'\u001b[0m\u001b[1;33m:\u001b[0m\u001b[1;33m\u001b[0m\u001b[1;33m\u001b[0m\u001b[0m\n",
      "\u001b[1;32mC:\\ProgramData\\Anaconda3\\lib\\site-packages\\matplotlib\\axes\\_base.py\u001b[0m in \u001b[0;36m_xy_from_xy\u001b[1;34m(self, x, y)\u001b[0m\n\u001b[0;32m    268\u001b[0m         \u001b[1;32mif\u001b[0m \u001b[0mx\u001b[0m\u001b[1;33m.\u001b[0m\u001b[0mshape\u001b[0m\u001b[1;33m[\u001b[0m\u001b[1;36m0\u001b[0m\u001b[1;33m]\u001b[0m \u001b[1;33m!=\u001b[0m \u001b[0my\u001b[0m\u001b[1;33m.\u001b[0m\u001b[0mshape\u001b[0m\u001b[1;33m[\u001b[0m\u001b[1;36m0\u001b[0m\u001b[1;33m]\u001b[0m\u001b[1;33m:\u001b[0m\u001b[1;33m\u001b[0m\u001b[1;33m\u001b[0m\u001b[0m\n\u001b[0;32m    269\u001b[0m             raise ValueError(\"x and y must have same first dimension, but \"\n\u001b[1;32m--> 270\u001b[1;33m                              \"have shapes {} and {}\".format(x.shape, y.shape))\n\u001b[0m\u001b[0;32m    271\u001b[0m         \u001b[1;32mif\u001b[0m \u001b[0mx\u001b[0m\u001b[1;33m.\u001b[0m\u001b[0mndim\u001b[0m \u001b[1;33m>\u001b[0m \u001b[1;36m2\u001b[0m \u001b[1;32mor\u001b[0m \u001b[0my\u001b[0m\u001b[1;33m.\u001b[0m\u001b[0mndim\u001b[0m \u001b[1;33m>\u001b[0m \u001b[1;36m2\u001b[0m\u001b[1;33m:\u001b[0m\u001b[1;33m\u001b[0m\u001b[1;33m\u001b[0m\u001b[0m\n\u001b[0;32m    272\u001b[0m             raise ValueError(\"x and y can be no greater than 2-D, but have \"\n",
      "\u001b[1;31mValueError\u001b[0m: x and y must have same first dimension, but have shapes (2000,) and (1,)"
     ]
    },
    {
     "data": {
      "image/png": "[encoded data removed]",
      "text/plain": [
       "<Figure size 576x432 with 1 Axes>"
      ]
     },
     "metadata": {
      "needs_background": "light"
     },
     "output_type": "display_data"
    }
   ],
   "source": [
    "trc_MethdodeSerieInvCarres(100)"
   ]
  },
  {
   "cell_type": "markdown",
   "metadata": {},
   "source": [
    "6.  Pour chacune des deux méthodes ci-dessus, combien faut-il de termes\n",
    "    $N$ dans la somme pour obtenir une approximation de $\\pi$ avec une\n",
    "    précision de l'ordre de $10^{-4}$ ?"
   ]
  },
  {
   "cell_type": "code",
   "execution_count": null,
   "metadata": {},
   "outputs": [],
   "source": []
  },
  {
   "cell_type": "markdown",
   "metadata": {},
   "source": [
    "7.  Le célèbre mathématicien Ramanujan proposa, de manière\n",
    "    quasi-magique, un certain nombre de formules permettant d'approximer\n",
    "    le nombre $\\pi$. Une des formules proposées peut s'énoncer comme\n",
    "    suit :\n",
    "    $${\\frac {1}{\\pi }}={\\frac {2{\\sqrt {2}}}{9801}}\\displaystyle \\sum _{n=0}^{\\infty }{\\frac {(4n)!}{(n!)^{4}}}\\times {\\frac {1103+26390n}{(4\\times 99)^{4n}}}$$\n",
    "    Implémenter une fonction *MethodeSerieRamanujan(N)*, basée sur cette\n",
    "    équation, renvoyant une approximation du nombre $\\pi$."
   ]
  },
  {
   "cell_type": "code",
   "execution_count": null,
   "metadata": {},
   "outputs": [],
   "source": []
  },
  {
   "cell_type": "markdown",
   "metadata": {},
   "source": [
    "8.  Déterminer combien cette méthode fournit de décimales\n",
    "    supplémentaires à $\\pi$ à chaque nouveau terme de la série."
   ]
  },
  {
   "cell_type": "code",
   "execution_count": null,
   "metadata": {},
   "outputs": [],
   "source": []
  },
  {
   "cell_type": "markdown",
   "metadata": {},
   "source": [
    "9.  Discuter et comparer l'efficacité des trois méthodes présentées\n",
    "    ci-dessus. Quels peuvent être les avantages et les inconvénients de\n",
    "    chacune ?"
   ]
  },
  {
   "cell_type": "markdown",
   "metadata": {},
   "source": []
  },
  {
   "cell_type": "markdown",
   "metadata": {},
   "source": [
    "Méthode de Monte-Carlo\n",
    "======================\n",
    "\n",
    "\\\"Le terme \\\"méthode de Monte-Carlo\\\", ou \\\"méthode Monte-Carlo\\\",\n",
    "désigne une famille de méthodes algorithmiques visant à calculer une\n",
    "valeur numérique approchée en utilisant des procédés aléatoires,\n",
    "c'est-à-dire des techniques probabilistes. Le nom de ces méthodes, qui\n",
    "fait allusion aux jeux de hasard pratiqués à Monte-Carlo, a été inventé\n",
    "en 1947 par Nicholas Metropolis.\\\"\n",
    "\n",
    " \n",
    "\n",
    "On se propose d'utiliser cette méthode pour obtenir une approximation du\n",
    "nombre $\\pi$. Considérons $\\mathcal{D}$ la portion de disque définie par :\n",
    "\n",
    "$$\\mathcal{D} = \\{ (x,y) \\in \\mathbb{R}^{+} ~|~ x^2 + y^2 \\leqslant 1 \\}$$\n",
    "\n",
    "Le principe de la méthode est de choisir aléatoirement un grand nombre\n",
    "de points dans le carré $[0,1]\\times [0,1]$ et d'observer combien de ces\n",
    "points se situent dans le quart de disque $\\mathcal{D}$. On notera $n$\n",
    "le nombre de points tirés, et $k_n$ le nombre de ces points qui se\n",
    "situent dans $\\mathcal{D}$."
   ]
  },
  {
   "cell_type": "markdown",
   "metadata": {},
   "source": [
    "1.  Déterminer l'aire de la portion de disque $\\mathcal{D}$. En se\n",
    "    basant sur le calcul précédent, quel à votre avis la valeur de\n",
    "    $\\lim\\limits_{n \\to \\infty} \\frac{k_n}{n}$ ?"
   ]
  },
  {
   "cell_type": "markdown",
   "metadata": {},
   "source": []
  },
  {
   "cell_type": "markdown",
   "metadata": {},
   "source": [
    "2.  Implémenter une fonction *Tirage(n)* permettant de tirer $n$ points\n",
    "    dans $[0,1]\\times [0,1]$ et de calculer $\\frac{k_n}{n}$."
   ]
  },
  {
   "cell_type": "code",
   "execution_count": null,
   "metadata": {},
   "outputs": [],
   "source": []
  },
  {
   "cell_type": "markdown",
   "metadata": {},
   "source": [
    "3.  Représenter le carré $[0,1]\\times [0,1]$, le disque $\\mathcal{D}$\n",
    "    (ou seulement le cercle associé), et le tirage des $n$ points, en\n",
    "    colorant de manière différente les points à l'intérieur et à\n",
    "    l'extérieur du disque $\\mathcal{D}$."
   ]
  },
  {
   "cell_type": "code",
   "execution_count": null,
   "metadata": {},
   "outputs": [],
   "source": []
  },
  {
   "cell_type": "markdown",
   "metadata": {},
   "source": [
    "4.  Implémenter une fonction *MonteCarlo(n)* renvoyant une approximation\n",
    "    de $\\pi$."
   ]
  },
  {
   "cell_type": "code",
   "execution_count": null,
   "metadata": {},
   "outputs": [],
   "source": []
  },
  {
   "cell_type": "markdown",
   "metadata": {},
   "source": [
    "5.  Représenter sous forme de nuage de points la quantité\n",
    "    $|MonteCarlo(n) - \\pi|$ en fonction de $n$. La méthode\n",
    "    converge-t-elle ? Dans quel sens ?"
   ]
  },
  {
   "cell_type": "code",
   "execution_count": null,
   "metadata": {},
   "outputs": [],
   "source": []
  },
  {
   "cell_type": "markdown",
   "metadata": {},
   "source": []
  },
  {
   "cell_type": "markdown",
   "metadata": {},
   "source": [
    "6.  Combien faut-il tirer de points $n$ (en moyenne) pour obtenir une\n",
    "    approximation de $\\pi$ avec une précision de l'ordre de $10^{-4}$ ?"
   ]
  },
  {
   "cell_type": "code",
   "execution_count": null,
   "metadata": {},
   "outputs": [],
   "source": []
  },
  {
   "cell_type": "markdown",
   "metadata": {},
   "source": []
  },
  {
   "cell_type": "markdown",
   "metadata": {},
   "source": [
    "7.  Quels sont les inconvénients et les avantages de cette méthode par\n",
    "    rapport aux méthodes des séries ?"
   ]
  },
  {
   "cell_type": "markdown",
   "metadata": {},
   "source": []
  },
  {
   "cell_type": "markdown",
   "metadata": {},
   "source": [
    "Ouverture\n",
    "=========\n",
    "\n",
    "-   Citer au moins une autre méthode (basée sur un principe mathématique\n",
    "    différent) permettant d'approximer le nombre $\\pi$ et expliquer\n",
    "    brièvement son principe."
   ]
  },
  {
   "cell_type": "markdown",
   "metadata": {},
   "source": []
  },
  {
   "cell_type": "markdown",
   "metadata": {},
   "source": [
    "-   (Bonus -- Pour les plus passionnés) Imaginer une nouvelle méthode\n",
    "    permettant d'obtenir une approximation du nombre $\\pi$."
   ]
  },
  {
   "cell_type": "markdown",
   "metadata": {},
   "source": []
  },
  {
   "cell_type": "markdown",
   "metadata": {},
   "source": [
    "Rendu du projet\n",
    "===============\n",
    "\n",
    "Le travail sur ce projet est à faire par binôme (2 personnes maximum).\n",
    "Le travail sera restitué sous la forme d'un Notebook.\n",
    "Le projet est à rendre sur Moodle.\n",
    "\n",
    "\n",
    "\n",
    "Le Notebook doit répondre à toutes les questions\n",
    "posées dans l'énoncé, implémenter les algorithmes demandés,\n",
    "et si cela s'avère nécessaire expliquer comment ces algorithmes\n",
    "ont été implémentés en pratique.\n",
    "Le Notebook se terminera par une discussion des résultats\n",
    "et une conclusion.\n",
    "La qualité, propreté et clarté de la rédaction seront pris en compte."
   ]
  }
 ],
 "metadata": {
  "kernelspec": {
   "display_name": "Python 3",
   "language": "python",
   "name": "python3"
  },
  "language_info": {
   "codemirror_mode": {
    "name": "ipython",
    "version": 3
   },
   "file_extension": ".py",
   "mimetype": "text/x-python",
   "name": "python",
   "nbconvert_exporter": "python",
   "pygments_lexer": "ipython3",
   "version": "3.7.4"
  }
 },
 "nbformat": 4,
 "nbformat_minor": 2
}
