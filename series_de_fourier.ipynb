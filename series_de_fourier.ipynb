{
 "cells": [
  {
   "cell_type": "markdown",
   "metadata": {},
   "source": [
    "Décomposition en série de Fourier d'une fonction $f$ sur $[-\\pi,\\pi]$\n",
    "-----\n",
    "La fonction $f(x)$ s'écrit sur cet intervalle\n",
    "$$\n",
    "f(x) = \\frac{a_0}{2} + \\sum_n a_n \\cos(nx) + \\sum_n b_n \\sin(nx)\n",
    "$$\n",
    "avec\n",
    "$$\n",
    "a_0 = \\frac{1}{\\pi} \\int_{-\\pi}^\\pi f(x) dx\n",
    "$$\n",
    "$$\n",
    "a_n = \\frac{1}{\\pi} \\int_{-\\pi}^\\pi f(x) \\cos(nx) dx\n",
    "$$\n",
    "$$\n",
    "b_n = \\frac{1}{\\pi} \\int_{-\\pi}^\\pi f(x) \\sin(nx) dx\n",
    "$$\n",
    "Si $f$ est paire alors $b_n=0$, si $f$ est impaire alors $a_n=0$."
   ]
  },
  {
   "cell_type": "code",
   "execution_count": null,
   "metadata": {},
   "outputs": [],
   "source": [
    "# Pour permettre les calculs formels\n",
    "from sympy import *\n",
    "import numpy as np\n",
    "#  pour automatiquement afficher les résultats avec jsmath\n",
    "init_printing()\n",
    "x = Symbol('x')\n",
    "n = Symbol('n', positive=True, integer=True)"
   ]
  },
  {
   "cell_type": "code",
   "execution_count": null,
   "metadata": {},
   "outputs": [],
   "source": [
    "def a0(f):\n",
    "    return(integrate(f,(x,-pi,pi))/pi)\n",
    "def an(f):\n",
    "    return(integrate(f*cos(n*x),(x,-pi,pi))/pi)\n",
    "def bn(f):\n",
    "    return(integrate(f*sin(n*x),(x,-pi,pi))/pi)"
   ]
  },
  {
   "cell_type": "code",
   "execution_count": null,
   "metadata": {},
   "outputs": [],
   "source": [
    "f = x\n",
    "[a0(f), an(f), bn(f)]"
   ]
  },
  {
   "cell_type": "code",
   "execution_count": null,
   "metadata": {},
   "outputs": [],
   "source": [
    "def serieFourier(f, N):\n",
    "    gn = an(f)*cos(n*x) + bn(f)*sin(n*x)\n",
    "    g = a0(f)/2\n",
    "    for i in range(N):\n",
    "        g =  g + gn.subs({n:i+1})\n",
    "    return g"
   ]
  },
  {
   "cell_type": "code",
   "execution_count": null,
   "metadata": {},
   "outputs": [],
   "source": [
    "sN=serieFourier(f,20)\n",
    "sN"
   ]
  },
  {
   "cell_type": "code",
   "execution_count": null,
   "metadata": {},
   "outputs": [],
   "source": [
    "# pour tracer des courbes\n",
    "import matplotlib.pyplot as plt\n",
    "sample = lambda vx,p : [p.subs({x:i}) for i in vx]\n",
    "\n",
    "def plot2(sN, f):\n",
    "    sx = np.linspace(-6*np.pi, 6*np.pi, 400)\n",
    "    sy = sample(sx,sN)\n",
    "\n",
    "    fx = np.linspace(-np.pi, np.pi, 400)\n",
    "    fy = sample(fx,f)\n",
    "\n",
    "    plt.figure(figsize=(8, 6))\n",
    "    plt.plot(sx, sy, linewidth=1 , color='crimson' ,label='$s_N(x)$')\n",
    "    plt.plot(fx, fy, linewidth=1 , color='blue' ,label='$f(x)$')\n",
    "    plt.title('Serie de Fourier')\n",
    "    plt.grid()\n",
    "    plt.axis([-6*np.pi, 6*np.pi, -4, 4])\n",
    "    plt.legend()\n",
    "    plt.show()\n",
    "plot2(sN,f)"
   ]
  },
  {
   "cell_type": "code",
   "execution_count": null,
   "metadata": {},
   "outputs": [],
   "source": []
  }
 ],
 "metadata": {
  "anaconda-cloud": {},
  "kernelspec": {
   "display_name": "Python 3",
   "language": "python",
   "name": "python3"
  },
  "language_info": {
   "codemirror_mode": {
    "name": "ipython",
    "version": 3
   },
   "file_extension": ".py",
   "mimetype": "text/x-python",
   "name": "python",
   "nbconvert_exporter": "python",
   "pygments_lexer": "ipython3",
   "version": "3.7.5"
  }
 },
 "nbformat": 4,
 "nbformat_minor": 1
}